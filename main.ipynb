{
 "cells": [
  {
   "cell_type": "code",
   "execution_count": 5,
   "id": "e44023ce",
   "metadata": {},
   "outputs": [
    {
     "name": "stdout",
     "output_type": "stream",
     "text": [
      "Data shape: (8064, 33)\n",
      "Channels: ['Fp1', 'AF3', 'F3', 'F7', 'FC5', 'FC1', 'C3', 'T7', 'CP5', 'CP1', 'P3', 'P7', 'PO3', 'O1', 'Oz', 'Pz', 'Fp2', 'AF4', 'Fz', 'F4', 'F8', 'FC6', 'FC2', 'Cz', 'C4', 'T8', 'CP6', 'CP2', 'P4', 'P8', 'PO4', 'O2', 'Unnamed: 32']\n"
     ]
    }
   ],
   "source": [
    "# Loading DATA\n",
    "import pandas as pd\n",
    "import numpy as np\n",
    "import matplotlib.pyplot as plt\n",
    "\n",
    "# Load your EEG data\n",
    "df = pd.read_csv('features_raw.csv')\n",
    "print(f\"Data shape: {df.shape}\")\n",
    "print(f\"Channels: {df.columns.tolist()}\")"
   ]
  },
  {
   "cell_type": "code",
   "execution_count": 9,
   "id": "a8509bca",
   "metadata": {},
   "outputs": [
    {
     "name": "stdout",
     "output_type": "stream",
     "text": [
      "EEGNet(\n",
      "  (conv1): Conv2d(1, 16, kernel_size=(1, 15), stride=(1, 1), padding=(0, 7))\n",
      "  (bn1): BatchNorm2d(16, eps=1e-05, momentum=0.1, affine=True, track_running_stats=True)\n",
      "  (conv2): Conv2d(16, 32, kernel_size=(32, 1), stride=(1, 1))\n",
      "  (bn2): BatchNorm2d(32, eps=1e-05, momentum=0.1, affine=True, track_running_stats=True)\n",
      "  (pool): AvgPool2d(kernel_size=(1, 4), stride=(1, 4), padding=0)\n",
      "  (fc1): Linear(in_features=2048, out_features=2, bias=True)\n",
      ")\n",
      "Output shape: torch.Size([8, 2])\n"
     ]
    }
   ],
   "source": [
    "\n",
    "import torch\n",
    "import torch.nn as nn\n",
    "import torch.nn.functional as F\n",
    "\n",
    "class EEGNet(nn.Module):\n",
    "    def __init__(self, n_channels=32, n_timepoints=256, n_classes=2):\n",
    "        super(EEGNet, self).__init__()\n",
    "        \n",
    "        # Conv layer 1: temporal filters\n",
    "        self.conv1 = nn.Conv2d(\n",
    "            in_channels=1, \n",
    "            out_channels=16, \n",
    "            kernel_size=(1, 15),  # filter across time\n",
    "            padding=(0, 7)\n",
    "        )\n",
    "        self.bn1 = nn.BatchNorm2d(16)\n",
    "        \n",
    "        # Conv layer 2: spatial filters across channels\n",
    "        self.conv2 = nn.Conv2d(\n",
    "            in_channels=16, \n",
    "            out_channels=32, \n",
    "            kernel_size=(n_channels, 1)  # filter across channels\n",
    "        )\n",
    "        self.bn2 = nn.BatchNorm2d(32)\n",
    "        \n",
    "        # Pooling\n",
    "        self.pool = nn.AvgPool2d(kernel_size=(1, 4))\n",
    "        \n",
    "        # Fully connected layer\n",
    "        self.fc1 = nn.Linear(32 * (n_timepoints // 4), n_classes)\n",
    "\n",
    "    def forward(self, x):\n",
    "        # x shape: (batch, 1, channels, timepoints)\n",
    "        x = F.relu(self.bn1(self.conv1(x)))\n",
    "        x = F.relu(self.bn2(self.conv2(x)))\n",
    "        x = self.pool(x)  # reduce time dimension\n",
    "        x = x.view(x.size(0), -1)  # flatten\n",
    "        x = self.fc1(x)\n",
    "        return x\n",
    "\n",
    "# Example usage\n",
    "model = EEGNet(n_channels=32, n_timepoints=256, n_classes=2)\n",
    "print(model)\n",
    "\n",
    "# Dummy input: batch of 8 samples, each with 32 channels × 256 timepoints\n",
    "dummy_input = torch.randn(8, 1, 32, 256)\n",
    "output = model(dummy_input)\n",
    "print(\"Output shape:\", output.shape)  # (batch, n_classes)\n"
   ]
  }
 ],
 "metadata": {
  "kernelspec": {
   "display_name": ".venv",
   "language": "python",
   "name": "python3"
  },
  "language_info": {
   "codemirror_mode": {
    "name": "ipython",
    "version": 3
   },
   "file_extension": ".py",
   "mimetype": "text/x-python",
   "name": "python",
   "nbconvert_exporter": "python",
   "pygments_lexer": "ipython3",
   "version": "3.12.0"
  }
 },
 "nbformat": 4,
 "nbformat_minor": 5
}
