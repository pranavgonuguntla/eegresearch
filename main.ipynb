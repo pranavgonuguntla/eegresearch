{
 "cells": [
  {
   "cell_type": "code",
   "execution_count": null,
   "id": "e44023ce",
   "metadata": {},
   "outputs": [
    {
     "name": "stdout",
     "output_type": "stream",
     "text": [
      "Data shape: (8064, 33)\n",
      "Channels: ['Fp1', 'AF3', 'F3', 'F7', 'FC5', 'FC1', 'C3', 'T7', 'CP5', 'CP1', 'P3', 'P7', 'PO3', 'O1', 'Oz', 'Pz', 'Fp2', 'AF4', 'Fz', 'F4', 'F8', 'FC6', 'FC2', 'Cz', 'C4', 'T8', 'CP6', 'CP2', 'P4', 'P8', 'PO4', 'O2', 'Unnamed: 32']\n"
     ]
    }
   ],
   "source": [
    "# Loading DATA\n",
    "import pandas as pd\n",
    "import numpy as np\n",
    "import matplotlib.pyplot as plt\n",
    "\n",
    "# Load your EEG data\n",
    "df = pd.read_csv('features_raw.csv')\n",
    "print(f\"Data shape: {df.shape}\")\n",
    "print(f\"Channels: {df.columns.tolist()}\")"
   ]
  },
  {
   "cell_type": "code",
   "execution_count": null,
   "id": "fa14b780",
   "metadata": {},
   "outputs": [],
   "source": [
    "# FRONTAL CHANNELS:\n",
    "# FP1 - Left frontopolar\n",
    "# FP2 - Right frontopolar\n",
    "# AF3 - Left anterior frontal\n",
    "# AF4 - Right anterior frontal\n",
    "# F3 - Left frontal\n",
    "# F4 - Right frontal\n",
    "# F7 - Left lateral frontal\n",
    "# F8 - Right lateral frontal\n",
    "# Fz - Midline frontal\n",
    "\n",
    "# FRONTOCENTRAL CHANNELS:\n",
    "# FC5 - Left frontocentral\n",
    "# FC6 - Right frontocentral\n",
    "# FC1 - Left frontocentral\n",
    "# FC2 - Right frontocentral\n",
    "\n",
    "# CENTRAL CHANNELS:\n",
    "# C3 - Left central\n",
    "# C4 - Right central\n",
    "# Cz - Midline central\n",
    "# T7 - Left temporal\n",
    "# T8 - Right temporal\n",
    "\n",
    "# CENTROPARIETAL CHANNELS:\n",
    "# CP5 - Left centroparietal\n",
    "# CP6 - Right centrparietal\n",
    "# CP1 - Left centroparietal\n",
    "# CP2 - Right centroparietal\n",
    "\n",
    "# PARIETAL CHANNELS:\n",
    "# P3 - Left parietal\n",
    "# P4 - Right parietal\n",
    "# P7 - Left parietal\n",
    "# P8 - Right parietal\n",
    "# Pz - Midline parietal\n",
    "\n",
    "# PARIETO-OCCIPTAL CHANNELS:\n",
    "# PO3 - Left parieto-occipital\n",
    "# PO4 - Right parieto-occipital\n",
    "\n",
    "# OCCIPITAL CHANNELS:\n",
    "# O1 - Left occipital\n",
    "# O2 - Right occipital\n",
    "# Oz - Midline occipital"
   ]
  }
 ],
 "metadata": {
  "kernelspec": {
   "display_name": "Python (cs178)",
   "language": "python",
   "name": "cs178"
  },
  "language_info": {
   "codemirror_mode": {
    "name": "ipython",
    "version": 3
   },
   "file_extension": ".py",
   "mimetype": "text/x-python",
   "name": "python",
   "nbconvert_exporter": "python",
   "pygments_lexer": "ipython3",
   "version": "3.10.16"
  }
 },
 "nbformat": 4,
 "nbformat_minor": 5
}
